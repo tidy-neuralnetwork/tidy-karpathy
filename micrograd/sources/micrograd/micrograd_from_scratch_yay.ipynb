{
 "cells": [
  {
   "cell_type": "code",
   "execution_count": 7,
   "id": "76de886c",
   "metadata": {},
   "outputs": [],
   "source": [
    "import math\n",
    "import numpy as np \n",
    "import matplotlib.pyplot as plt\n",
    "%matplotlib inline"
   ]
  },
  {
   "cell_type": "code",
   "execution_count": 8,
   "id": "d0da2c62",
   "metadata": {},
   "outputs": [],
   "source": [
    "def f(x):\n",
    "    return 3*x**2 - 4*x + 5"
   ]
  },
  {
   "cell_type": "code",
   "execution_count": 9,
   "id": "104f4986",
   "metadata": {},
   "outputs": [
    {
     "data": {
      "text/plain": [
       "20.0"
      ]
     },
     "execution_count": 9,
     "metadata": {},
     "output_type": "execute_result"
    }
   ],
   "source": [
    "f(3.0)"
   ]
  },
  {
   "cell_type": "code",
   "execution_count": 10,
   "id": "11412ea1",
   "metadata": {},
   "outputs": [],
   "source": [
    "xs = np.arange(-5, 5, 0.25)"
   ]
  },
  {
   "cell_type": "code",
   "execution_count": 11,
   "id": "6f7f9b0a",
   "metadata": {},
   "outputs": [
    {
     "data": {
      "text/plain": [
       "array([-5.  , -4.75, -4.5 , -4.25, -4.  , -3.75, -3.5 , -3.25, -3.  ,\n",
       "       -2.75, -2.5 , -2.25, -2.  , -1.75, -1.5 , -1.25, -1.  , -0.75,\n",
       "       -0.5 , -0.25,  0.  ,  0.25,  0.5 ,  0.75,  1.  ,  1.25,  1.5 ,\n",
       "        1.75,  2.  ,  2.25,  2.5 ,  2.75,  3.  ,  3.25,  3.5 ,  3.75,\n",
       "        4.  ,  4.25,  4.5 ,  4.75])"
      ]
     },
     "execution_count": 11,
     "metadata": {},
     "output_type": "execute_result"
    }
   ],
   "source": [
    "xs"
   ]
  },
  {
   "cell_type": "code",
   "execution_count": 12,
   "id": "3cd6055b",
   "metadata": {},
   "outputs": [],
   "source": [
    "ys = f(xs)"
   ]
  },
  {
   "cell_type": "code",
   "execution_count": 13,
   "id": "9dd01363",
   "metadata": {},
   "outputs": [
    {
     "data": {
      "text/plain": [
       "array([100.    ,  91.6875,  83.75  ,  76.1875,  69.    ,  62.1875,\n",
       "        55.75  ,  49.6875,  44.    ,  38.6875,  33.75  ,  29.1875,\n",
       "        25.    ,  21.1875,  17.75  ,  14.6875,  12.    ,   9.6875,\n",
       "         7.75  ,   6.1875,   5.    ,   4.1875,   3.75  ,   3.6875,\n",
       "         4.    ,   4.6875,   5.75  ,   7.1875,   9.    ,  11.1875,\n",
       "        13.75  ,  16.6875,  20.    ,  23.6875,  27.75  ,  32.1875,\n",
       "        37.    ,  42.1875,  47.75  ,  53.6875])"
      ]
     },
     "execution_count": 13,
     "metadata": {},
     "output_type": "execute_result"
    }
   ],
   "source": [
    "ys"
   ]
  },
  {
   "cell_type": "code",
   "execution_count": 14,
   "id": "c6211ed0",
   "metadata": {},
   "outputs": [
    {
     "data": {
      "text/plain": [
       "[<matplotlib.lines.Line2D at 0x7f92c9ac8430>]"
      ]
     },
     "execution_count": 14,
     "metadata": {},
     "output_type": "execute_result"
    },
    {
     "data": {
      "image/png": "[encoded data removed]",
      "text/plain": [
       "<Figure size 640x480 with 1 Axes>"
      ]
     },
     "metadata": {},
     "output_type": "display_data"
    }
   ],
   "source": [
    "plt.plot(xs, ys)"
   ]
  },
  {
   "cell_type": "code",
   "execution_count": 15,
   "id": "a434ece3",
   "metadata": {},
   "outputs": [
    {
     "data": {
      "text/plain": [
       "20.0"
      ]
     },
     "execution_count": 15,
     "metadata": {},
     "output_type": "execute_result"
    }
   ],
   "source": [
    "h = 0.01\n",
    "x = 3.0\n",
    "f(x)"
   ]
  },
  {
   "cell_type": "code",
   "execution_count": 21,
   "id": "014cb2ec",
   "metadata": {},
   "outputs": [
    {
     "data": {
      "text/plain": [
       "14.029999999999632"
      ]
     },
     "execution_count": 21,
     "metadata": {},
     "output_type": "execute_result"
    }
   ],
   "source": [
    "h = 0.01\n",
    "x = 3.0\n",
    "(f(x + h) - f(x))/h"
   ]
  },
  {
   "cell_type": "code",
   "execution_count": 23,
   "id": "65d9f95c",
   "metadata": {},
   "outputs": [
    {
     "data": {
      "text/plain": [
       "14.000000305713911"
      ]
     },
     "execution_count": 23,
     "metadata": {},
     "output_type": "execute_result"
    }
   ],
   "source": [
    "h = 0.0000001\n",
    "x = 3.0\n",
    "(f(x + h) - f(x))/h"
   ]
  },
  {
   "cell_type": "code",
   "execution_count": 24,
   "id": "220776b0",
   "metadata": {},
   "outputs": [
    {
     "data": {
      "text/plain": [
       "0.0"
      ]
     },
     "execution_count": 24,
     "metadata": {},
     "output_type": "execute_result"
    }
   ],
   "source": [
    "h = 0.000000000000000000001\n",
    "x = 3.0\n",
    "(f(x + h) - f(x))/h"
   ]
  },
  {
   "cell_type": "code",
   "execution_count": 18,
   "id": "a14a99ca",
   "metadata": {},
   "outputs": [
    {
     "data": {
      "text/plain": [
       "-22.00000039920269"
      ]
     },
     "execution_count": 18,
     "metadata": {},
     "output_type": "execute_result"
    }
   ],
   "source": [
    "h = 0.00000001\n",
    "x = -3.0\n",
    "(f(x+h) - f(x))/h"
   ]
  },
  {
   "cell_type": "code",
   "execution_count": 27,
   "id": "f32b89cb",
   "metadata": {},
   "outputs": [
    {
     "data": {
      "text/plain": [
       "2.999378523327323e-06"
      ]
     },
     "execution_count": 27,
     "metadata": {},
     "output_type": "execute_result"
    }
   ],
   "source": [
    "h = 0.000001\n",
    "x = 2/3\n",
    "(f(x+h) - f(x))/h"
   ]
  },
  {
   "cell_type": "code",
   "execution_count": null,
   "id": "4c355307",
   "metadata": {},
   "outputs": [],
   "source": [
    "h = 0.00000001\n",
    "x = 2/3\n",
    "(f(x+h) - f(x))/h"
   ]
  },
  {
   "cell_type": "code",
   "execution_count": 21,
   "id": "1402c75c",
   "metadata": {},
   "outputs": [
    {
     "name": "stdout",
     "output_type": "stream",
     "text": [
      "4.0\n"
     ]
    }
   ],
   "source": [
    "# let get more complex\n",
    "a = 2.0\n",
    "b = -3.0\n",
    "c = 10.0\n",
    "d = a*b + c \n",
    "print(d)"
   ]
  },
  {
   "cell_type": "code",
   "execution_count": 32,
   "id": "2bf513af",
   "metadata": {},
   "outputs": [
    {
     "name": "stdout",
     "output_type": "stream",
     "text": [
      "d1 4.0\n",
      "d2 3.999699999999999\n",
      "slope -3.000000000010772\n"
     ]
    }
   ],
   "source": [
    "h = 0.0001\n",
    "# inputs \n",
    "a = 2.0\n",
    "b = -3.0\n",
    "c = 10.0\n",
    "\n",
    "d1 = a*b + c \n",
    "a += h\n",
    "d2 = a*b + c\n",
    "print('d1', d1)\n",
    "print('d2', d2)\n",
    "print('slope', (d2-d1)/h)"
   ]
  },
  {
   "cell_type": "code",
   "execution_count": 33,
   "id": "447ee7fc",
   "metadata": {},
   "outputs": [
    {
     "name": "stdout",
     "output_type": "stream",
     "text": [
      "d1 4.0\n",
      "d2 4.0002\n",
      "slope 2.0000000000042206\n"
     ]
    }
   ],
   "source": [
    "h = 0.0001\n",
    "# inputs \n",
    "a = 2.0\n",
    "b = -3.0\n",
    "c = 10.0\n",
    "\n",
    "d1 = a*b + c \n",
    "b += h\n",
    "d2 = a*b + c\n",
    "print('d1', d1)\n",
    "print('d2', d2)\n",
    "print('slope', (d2-d1)/h)"
   ]
  },
  {
   "cell_type": "code",
   "execution_count": 34,
   "id": "11a56fc0",
   "metadata": {},
   "outputs": [
    {
     "name": "stdout",
     "output_type": "stream",
     "text": [
      "d1 4.0\n",
      "d2 4.0001\n",
      "slope 0.9999999999976694\n"
     ]
    }
   ],
   "source": [
    "h = 0.0001\n",
    "# inputs \n",
    "a = 2.0\n",
    "b = -3.0\n",
    "c = 10.0\n",
    "\n",
    "d1 = a*b + c \n",
    "c += h\n",
    "d2 = a*b + c\n",
    "print('d1', d1)\n",
    "print('d2', d2)\n",
    "print('slope', (d2-d1)/h)"
   ]
  },
  {
   "cell_type": "code",
   "execution_count": 49,
   "id": "5613a6b7",
   "metadata": {},
   "outputs": [
    {
     "data": {
      "text/plain": [
       "Value(data = -1.0)"
      ]
     },
     "execution_count": 49,
     "metadata": {},
     "output_type": "execute_result"
    }
   ],
   "source": [
    "class Value:\n",
    "    def __init__(self, data):\n",
    "        self.data = data\n",
    "    \n",
    "    def __repr__(self):\n",
    "        return f\"Value(data = {self.data})\"\n",
    "    \n",
    "    def __add__(self, other):\n",
    "        out = Value(self.data + other.data)\n",
    "        return out\n",
    "       \n",
    "    def __mul__(self, other):\n",
    "        out = Value(self.data * other.data)\n",
    "        return out\n",
    "     \n",
    "  \n",
    "\n",
    "a = Value(2.0)\n",
    "b = Value(-3.0)\n",
    "a + b"
   ]
  },
  {
   "cell_type": "code",
   "execution_count": 50,
   "id": "ea0b661b",
   "metadata": {},
   "outputs": [
    {
     "data": {
      "text/plain": [
       "Value(data = -6.0)"
      ]
     },
     "execution_count": 50,
     "metadata": {},
     "output_type": "execute_result"
    }
   ],
   "source": [
    "a * b"
   ]
  },
  {
   "cell_type": "code",
   "execution_count": 53,
   "id": "9def7b35",
   "metadata": {},
   "outputs": [
    {
     "data": {
      "text/plain": [
       "Value(data = 4.0)"
      ]
     },
     "execution_count": 53,
     "metadata": {},
     "output_type": "execute_result"
    }
   ],
   "source": [
    "c = Value(10.0)\n",
    "d = a*b+c\n",
    "d"
   ]
  },
  {
   "cell_type": "code",
   "execution_count": 133,
   "id": "cd085334",
   "metadata": {},
   "outputs": [
    {
     "data": {
      "text/plain": [
       "Value(data = -8.0)"
      ]
     },
     "execution_count": 133,
     "metadata": {},
     "output_type": "execute_result"
    }
   ],
   "source": [
    "class Value:\n",
    "    def __init__(self, data, _children=(), _op='', label=''):\n",
    "        self.data = data\n",
    "        self.grad = 0.0\n",
    "        self._prev = set(_children)\n",
    "        self._op = _op\n",
    "        self.label = label\n",
    "    \n",
    "    def __repr__(self):\n",
    "        return f\"Value(data = {self.data})\"\n",
    "    \n",
    "    def __add__(self, other):\n",
    "        out = Value(self.data + other.data, (self, other), '+')\n",
    "        return out\n",
    "       \n",
    "    def __mul__(self, other):\n",
    "        out = Value(self.data * other.data, (self, other), '*')\n",
    "        return out\n",
    "    \n",
    "a = Value(2.0, label='a')\n",
    "b = Value(-3.0, label='b')\n",
    "c = Value(10.0, label='c')\n",
    "e = a*b; e.label = 'e'\n",
    "d = e + c; d.label = 'd'\n",
    "f = Value(-2.0, label='f')\n",
    "L = d * f; L.label = 'L'\n",
    "L\n",
    "     "
   ]
  },
  {
   "cell_type": "code",
   "execution_count": 134,
   "id": "df25be60",
   "metadata": {},
   "outputs": [
    {
     "data": {
      "text/plain": [
       "{Value(data = -6.0), Value(data = 10.0)}"
      ]
     },
     "execution_count": 134,
     "metadata": {},
     "output_type": "execute_result"
    }
   ],
   "source": [
    "d._prev"
   ]
  },
  {
   "cell_type": "code",
   "execution_count": 135,
   "id": "2b39664a",
   "metadata": {},
   "outputs": [
    {
     "data": {
      "text/plain": [
       "'+'"
      ]
     },
     "execution_count": 135,
     "metadata": {},
     "output_type": "execute_result"
    }
   ],
   "source": [
    "d._op"
   ]
  },
  {
   "cell_type": "code",
   "execution_count": 136,
   "id": "42a3e62a",
   "metadata": {},
   "outputs": [],
   "source": [
    "def trace(root):\n",
    "    nodes, edges = set(), set()\n",
    "    def build(v):\n",
    "        if v not in nodes:\n",
    "            nodes.add(v)\n",
    "            for child in v._prev:\n",
    "                edges.add((child, v))\n",
    "                build(child)\n",
    "    build(root)\n",
    "    return nodes, edges\n",
    "\n",
    "def draw_dot(root):\n",
    "    dot = Digraph(format='svg', graph_attr={'rankdir': 'LR'}) # LR = left to right\n",
    "    nodes, edges = trace(root)\n",
    "    \n",
    "    for n in nodes:\n",
    "        uid = str(id(n))\n",
    "        # for any value in the graph, create a rectangular ('record') node for it\n",
    "        dot.node(name=uid, label = \"{ %s | data %.4f | grad %.4f }\" % (n.label, n.data, n.grad), shape='record')\n",
    "        if n._op:\n",
    "            # if this value is a result of some opertaion, create an op node for it \n",
    "            dot.node(name=uid + n._op, label = n._op)\n",
    "            # and connect this node to it \n",
    "            dot.edge(uid + n._op, uid)\n",
    "    \n",
    "    for n1, n2 in edges:\n",
    "        # connect n1 to the op node of n2\n",
    "        dot.edge(str(id(n1)), str(id(n2)) + n2._op)\n",
    "    \n",
    "    return dot"
   ]
  },
  {
   "cell_type": "code",
   "execution_count": 142,
   "id": "14b7b31f",
   "metadata": {},
   "outputs": [
    {
     "data": {
      "image/svg+xml": [
       "<?xml version=\"1.0\" encoding=\"UTF-8\" standalone=\"no\"?>\n",
       "<!DOCTYPE svg PUBLIC \"-//W3C//DTD SVG 1.1//EN\"\n",
       " \"http://www.w3.org/Graphics/SVG/1.1/DTD/svg11.dtd\">\n",
       "<!-- Generated by graphviz version 2.43.0 (0)\n",
       " -->\n",
       "<!-- Title: %3 Pages: 1 -->\n",
       "<svg width=\"1332pt\" height=\"128pt\"\n",
       " viewBox=\"0.00 0.00 1332.00 128.00\" xmlns=\"http://www.w3.org/2000/svg\" xmlns:xlink=\"http://www.w3.org/1999/xlink\">\n",
       "<g id=\"graph0\" class=\"graph\" transform=\"scale(1 1) rotate(0) translate(4 124)\">\n",
       "<title>%3</title>\n",
       "<polygon fill=\"white\" stroke=\"transparent\" points=\"-4,4 -4,-124 1328,-124 1328,4 -4,4\"/>\n",
       "<!-- 140268880226384 -->\n",
       "<g id=\"node1\" class=\"node\">\n",
       "<title>140268880226384</title>\n",
       "<polygon fill=\"none\" stroke=\"black\" points=\"1087,-27.5 1087,-63.5 1324,-63.5 1324,-27.5 1087,-27.5\"/>\n",
       "<text text-anchor=\"middle\" x=\"1100\" y=\"-41.8\" font-family=\"Times,serif\" font-size=\"14.00\">L</text>\n",
       "<polyline fill=\"none\" stroke=\"black\" points=\"1113,-27.5 1113,-63.5 \"/>\n",
       "<text text-anchor=\"middle\" x=\"1166.5\" y=\"-41.8\" font-family=\"Times,serif\" font-size=\"14.00\">data &#45;8.0000</text>\n",
       "<polyline fill=\"none\" stroke=\"black\" points=\"1220,-27.5 1220,-63.5 \"/>\n",
       "<text text-anchor=\"middle\" x=\"1272\" y=\"-41.8\" font-family=\"Times,serif\" font-size=\"14.00\">grad 1.0000</text>\n",
       "</g>\n",
       "<!-- 140268880226384* -->\n",
       "<g id=\"node2\" class=\"node\">\n",
       "<title>140268880226384*</title>\n",
       "<ellipse fill=\"none\" stroke=\"black\" cx=\"1024\" cy=\"-45.5\" rx=\"27\" ry=\"18\"/>\n",
       "<text text-anchor=\"middle\" x=\"1024\" y=\"-41.8\" font-family=\"Times,serif\" font-size=\"14.00\">*</text>\n",
       "</g>\n",
       "<!-- 140268880226384*&#45;&gt;140268880226384 -->\n",
       "<g id=\"edge1\" class=\"edge\">\n",
       "<title>140268880226384*&#45;&gt;140268880226384</title>\n",
       "<path fill=\"none\" stroke=\"black\" d=\"M1051.1,-45.5C1058.61,-45.5 1067.33,-45.5 1076.75,-45.5\"/>\n",
       "<polygon fill=\"black\" stroke=\"black\" points=\"1076.78,-49 1086.78,-45.5 1076.78,-42 1076.78,-49\"/>\n",
       "</g>\n",
       "<!-- 140268880225568 -->\n",
       "<g id=\"node3\" class=\"node\">\n",
       "<title>140268880225568</title>\n",
       "<polygon fill=\"none\" stroke=\"black\" points=\"363,-83.5 363,-119.5 602,-119.5 602,-83.5 363,-83.5\"/>\n",
       "<text text-anchor=\"middle\" x=\"375\" y=\"-97.8\" font-family=\"Times,serif\" font-size=\"14.00\">c</text>\n",
       "<polyline fill=\"none\" stroke=\"black\" points=\"387,-83.5 387,-119.5 \"/>\n",
       "<text text-anchor=\"middle\" x=\"442.5\" y=\"-97.8\" font-family=\"Times,serif\" font-size=\"14.00\">data 10.0000</text>\n",
       "<polyline fill=\"none\" stroke=\"black\" points=\"498,-83.5 498,-119.5 \"/>\n",
       "<text text-anchor=\"middle\" x=\"550\" y=\"-97.8\" font-family=\"Times,serif\" font-size=\"14.00\">grad 0.0000</text>\n",
       "</g>\n",
       "<!-- 140268880227680+ -->\n",
       "<g id=\"node7\" class=\"node\">\n",
       "<title>140268880227680+</title>\n",
       "<ellipse fill=\"none\" stroke=\"black\" cx=\"665\" cy=\"-73.5\" rx=\"27\" ry=\"18\"/>\n",
       "<text text-anchor=\"middle\" x=\"665\" y=\"-69.8\" font-family=\"Times,serif\" font-size=\"14.00\">+</text>\n",
       "</g>\n",
       "<!-- 140268880225568&#45;&gt;140268880227680+ -->\n",
       "<g id=\"edge4\" class=\"edge\">\n",
       "<title>140268880225568&#45;&gt;140268880227680+</title>\n",
       "<path fill=\"none\" stroke=\"black\" d=\"M599.6,-83.49C609.91,-81.89 619.74,-80.37 628.46,-79.01\"/>\n",
       "<polygon fill=\"black\" stroke=\"black\" points=\"629.18,-82.44 638.52,-77.45 628.1,-75.53 629.18,-82.44\"/>\n",
       "</g>\n",
       "<!-- 140268880226624 -->\n",
       "<g id=\"node4\" class=\"node\">\n",
       "<title>140268880226624</title>\n",
       "<polygon fill=\"none\" stroke=\"black\" points=\"3,-56.5 3,-92.5 234,-92.5 234,-56.5 3,-56.5\"/>\n",
       "<text text-anchor=\"middle\" x=\"15.5\" y=\"-70.8\" font-family=\"Times,serif\" font-size=\"14.00\">a</text>\n",
       "<polyline fill=\"none\" stroke=\"black\" points=\"28,-56.5 28,-92.5 \"/>\n",
       "<text text-anchor=\"middle\" x=\"79\" y=\"-70.8\" font-family=\"Times,serif\" font-size=\"14.00\">data 2.0000</text>\n",
       "<polyline fill=\"none\" stroke=\"black\" points=\"130,-56.5 130,-92.5 \"/>\n",
       "<text text-anchor=\"middle\" x=\"182\" y=\"-70.8\" font-family=\"Times,serif\" font-size=\"14.00\">grad 0.0000</text>\n",
       "</g>\n",
       "<!-- 140268880226288* -->\n",
       "<g id=\"node10\" class=\"node\">\n",
       "<title>140268880226288*</title>\n",
       "<ellipse fill=\"none\" stroke=\"black\" cx=\"300\" cy=\"-46.5\" rx=\"27\" ry=\"18\"/>\n",
       "<text text-anchor=\"middle\" x=\"300\" y=\"-42.8\" font-family=\"Times,serif\" font-size=\"14.00\">*</text>\n",
       "</g>\n",
       "<!-- 140268880226624&#45;&gt;140268880226288* -->\n",
       "<g id=\"edge6\" class=\"edge\">\n",
       "<title>140268880226624&#45;&gt;140268880226288*</title>\n",
       "<path fill=\"none\" stroke=\"black\" d=\"M234.2,-56.61C244.76,-54.96 254.83,-53.39 263.74,-52\"/>\n",
       "<polygon fill=\"black\" stroke=\"black\" points=\"264.3,-55.46 273.64,-50.46 263.22,-48.54 264.3,-55.46\"/>\n",
       "</g>\n",
       "<!-- 140268880225088 -->\n",
       "<g id=\"node5\" class=\"node\">\n",
       "<title>140268880225088</title>\n",
       "<polygon fill=\"none\" stroke=\"black\" points=\"0,-1.5 0,-37.5 237,-37.5 237,-1.5 0,-1.5\"/>\n",
       "<text text-anchor=\"middle\" x=\"13\" y=\"-15.8\" font-family=\"Times,serif\" font-size=\"14.00\">b</text>\n",
       "<polyline fill=\"none\" stroke=\"black\" points=\"26,-1.5 26,-37.5 \"/>\n",
       "<text text-anchor=\"middle\" x=\"79.5\" y=\"-15.8\" font-family=\"Times,serif\" font-size=\"14.00\">data &#45;3.0000</text>\n",
       "<polyline fill=\"none\" stroke=\"black\" points=\"133,-1.5 133,-37.5 \"/>\n",
       "<text text-anchor=\"middle\" x=\"185\" y=\"-15.8\" font-family=\"Times,serif\" font-size=\"14.00\">grad 0.0000</text>\n",
       "</g>\n",
       "<!-- 140268880225088&#45;&gt;140268880226288* -->\n",
       "<g id=\"edge8\" class=\"edge\">\n",
       "<title>140268880225088&#45;&gt;140268880226288*</title>\n",
       "<path fill=\"none\" stroke=\"black\" d=\"M237.23,-37.21C246.6,-38.62 255.52,-39.96 263.52,-41.16\"/>\n",
       "<polygon fill=\"black\" stroke=\"black\" points=\"263.06,-44.63 273.47,-42.66 264.1,-37.71 263.06,-44.63\"/>\n",
       "</g>\n",
       "<!-- 140268880227680 -->\n",
       "<g id=\"node6\" class=\"node\">\n",
       "<title>140268880227680</title>\n",
       "<polygon fill=\"none\" stroke=\"black\" points=\"728.5,-55.5 728.5,-91.5 960.5,-91.5 960.5,-55.5 728.5,-55.5\"/>\n",
       "<text text-anchor=\"middle\" x=\"741.5\" y=\"-69.8\" font-family=\"Times,serif\" font-size=\"14.00\">d</text>\n",
       "<polyline fill=\"none\" stroke=\"black\" points=\"754.5,-55.5 754.5,-91.5 \"/>\n",
       "<text text-anchor=\"middle\" x=\"805.5\" y=\"-69.8\" font-family=\"Times,serif\" font-size=\"14.00\">data 4.0000</text>\n",
       "<polyline fill=\"none\" stroke=\"black\" points=\"856.5,-55.5 856.5,-91.5 \"/>\n",
       "<text text-anchor=\"middle\" x=\"908.5\" y=\"-69.8\" font-family=\"Times,serif\" font-size=\"14.00\">grad 0.0000</text>\n",
       "</g>\n",
       "<!-- 140268880227680&#45;&gt;140268880226384* -->\n",
       "<g id=\"edge7\" class=\"edge\">\n",
       "<title>140268880227680&#45;&gt;140268880226384*</title>\n",
       "<path fill=\"none\" stroke=\"black\" d=\"M959.67,-55.49C969.61,-53.92 979.08,-52.43 987.53,-51.1\"/>\n",
       "<polygon fill=\"black\" stroke=\"black\" points=\"988.31,-54.52 997.64,-49.5 987.22,-47.6 988.31,-54.52\"/>\n",
       "</g>\n",
       "<!-- 140268880227680+&#45;&gt;140268880227680 -->\n",
       "<g id=\"edge2\" class=\"edge\">\n",
       "<title>140268880227680+&#45;&gt;140268880227680</title>\n",
       "<path fill=\"none\" stroke=\"black\" d=\"M692.19,-73.5C699.78,-73.5 708.61,-73.5 718.11,-73.5\"/>\n",
       "<polygon fill=\"black\" stroke=\"black\" points=\"718.24,-77 728.24,-73.5 718.24,-70 718.24,-77\"/>\n",
       "</g>\n",
       "<!-- 140268880224656 -->\n",
       "<g id=\"node8\" class=\"node\">\n",
       "<title>140268880224656</title>\n",
       "<polygon fill=\"none\" stroke=\"black\" points=\"728,-0.5 728,-36.5 961,-36.5 961,-0.5 728,-0.5\"/>\n",
       "<text text-anchor=\"middle\" x=\"739\" y=\"-14.8\" font-family=\"Times,serif\" font-size=\"14.00\">f</text>\n",
       "<polyline fill=\"none\" stroke=\"black\" points=\"750,-0.5 750,-36.5 \"/>\n",
       "<text text-anchor=\"middle\" x=\"803.5\" y=\"-14.8\" font-family=\"Times,serif\" font-size=\"14.00\">data &#45;2.0000</text>\n",
       "<polyline fill=\"none\" stroke=\"black\" points=\"857,-0.5 857,-36.5 \"/>\n",
       "<text text-anchor=\"middle\" x=\"909\" y=\"-14.8\" font-family=\"Times,serif\" font-size=\"14.00\">grad 0.0000</text>\n",
       "</g>\n",
       "<!-- 140268880224656&#45;&gt;140268880226384* -->\n",
       "<g id=\"edge9\" class=\"edge\">\n",
       "<title>140268880224656&#45;&gt;140268880226384*</title>\n",
       "<path fill=\"none\" stroke=\"black\" d=\"M961.42,-36.13C970.75,-37.55 979.64,-38.9 987.61,-40.12\"/>\n",
       "<polygon fill=\"black\" stroke=\"black\" points=\"987.11,-43.58 997.52,-41.62 988.16,-36.66 987.11,-43.58\"/>\n",
       "</g>\n",
       "<!-- 140268880226288 -->\n",
       "<g id=\"node9\" class=\"node\">\n",
       "<title>140268880226288</title>\n",
       "<polygon fill=\"none\" stroke=\"black\" points=\"364.5,-28.5 364.5,-64.5 600.5,-64.5 600.5,-28.5 364.5,-28.5\"/>\n",
       "<text text-anchor=\"middle\" x=\"377\" y=\"-42.8\" font-family=\"Times,serif\" font-size=\"14.00\">e</text>\n",
       "<polyline fill=\"none\" stroke=\"black\" points=\"389.5,-28.5 389.5,-64.5 \"/>\n",
       "<text text-anchor=\"middle\" x=\"443\" y=\"-42.8\" font-family=\"Times,serif\" font-size=\"14.00\">data &#45;6.0000</text>\n",
       "<polyline fill=\"none\" stroke=\"black\" points=\"496.5,-28.5 496.5,-64.5 \"/>\n",
       "<text text-anchor=\"middle\" x=\"548.5\" y=\"-42.8\" font-family=\"Times,serif\" font-size=\"14.00\">grad 0.0000</text>\n",
       "</g>\n",
       "<!-- 140268880226288&#45;&gt;140268880227680+ -->\n",
       "<g id=\"edge5\" class=\"edge\">\n",
       "<title>140268880226288&#45;&gt;140268880227680+</title>\n",
       "<path fill=\"none\" stroke=\"black\" d=\"M600.62,-64.02C610.5,-65.5 619.9,-66.9 628.3,-68.16\"/>\n",
       "<polygon fill=\"black\" stroke=\"black\" points=\"627.95,-71.65 638.36,-69.66 628.99,-64.72 627.95,-71.65\"/>\n",
       "</g>\n",
       "<!-- 140268880226288*&#45;&gt;140268880226288 -->\n",
       "<g id=\"edge3\" class=\"edge\">\n",
       "<title>140268880226288*&#45;&gt;140268880226288</title>\n",
       "<path fill=\"none\" stroke=\"black\" d=\"M327.25,-46.5C335.09,-46.5 344.27,-46.5 354.17,-46.5\"/>\n",
       "<polygon fill=\"black\" stroke=\"black\" points=\"354.28,-50 364.28,-46.5 354.28,-43 354.28,-50\"/>\n",
       "</g>\n",
       "</g>\n",
       "</svg>\n"
      ],
      "text/plain": [
       "<graphviz.graphs.Digraph at 0x7f92c7aa4730>"
      ]
     },
     "execution_count": 142,
     "metadata": {},
     "output_type": "execute_result"
    }
   ],
   "source": [
    "draw_dot(L)"
   ]
  },
  {
   "cell_type": "code",
   "execution_count": 139,
   "id": "bed8df78",
   "metadata": {},
   "outputs": [
    {
     "name": "stdout",
     "output_type": "stream",
     "text": [
      "6.000000000000227\n",
      "1.000000000000334\n"
     ]
    }
   ],
   "source": [
    "def lol():\n",
    "    h = 0.001\n",
    "    a = Value(2.0, label='a')\n",
    "    b = Value(-3.0, label='b')\n",
    "    c = Value(10.0, label='c')\n",
    "    e = a*b; e.label = 'e'\n",
    "    d = e + c; d.label = 'd'\n",
    "    f = Value(-2.0, label='f')\n",
    "    L = d * f; L.label = 'L'\n",
    "    L1 = L.data\n",
    "    \n",
    "    a = Value(2.0 + h, label='a')\n",
    "    b = Value(-3.0, label='b')\n",
    "    c = Value(10.0, label='c')\n",
    "    e = a*b; e.label = 'e'\n",
    "    d = e + c; d.label = 'd'\n",
    "    f = Value(-2.0, label='f')\n",
    "    L = d * f; L.label = 'L'\n",
    "    L2 = L.data\n",
    "    \n",
    "    # 打印L相对于a的导数\n",
    "    print((L2-L1)/h)\n",
    "    \n",
    "    a = Value(2.0, label='a')\n",
    "    b = Value(-3.0, label='b')\n",
    "    c = Value(10.0, label='c')\n",
    "    e = a*b; e.label = 'e'\n",
    "    d = e + c; d.label = 'd'\n",
    "    f = Value(-2.0, label='f')\n",
    "    L = d * f; L.label = 'L'\n",
    "    L2 = L.data + h\n",
    "    \n",
    "    # 打印L相对于的导数\n",
    "    print((L2-L1)/h)\n",
    "    \n",
    "\n",
    "lol()"
   ]
  },
  {
   "cell_type": "code",
   "execution_count": 144,
   "id": "2579478e",
   "metadata": {},
   "outputs": [
    {
     "data": {
      "image/svg+xml": [
       "<?xml version=\"1.0\" encoding=\"UTF-8\" standalone=\"no\"?>\n",
       "<!DOCTYPE svg PUBLIC \"-//W3C//DTD SVG 1.1//EN\"\n",
       " \"http://www.w3.org/Graphics/SVG/1.1/DTD/svg11.dtd\">\n",
       "<!-- Generated by graphviz version 2.43.0 (0)\n",
       " -->\n",
       "<!-- Title: %3 Pages: 1 -->\n",
       "<svg width=\"1335pt\" height=\"128pt\"\n",
       " viewBox=\"0.00 0.00 1335.00 128.00\" xmlns=\"http://www.w3.org/2000/svg\" xmlns:xlink=\"http://www.w3.org/1999/xlink\">\n",
       "<g id=\"graph0\" class=\"graph\" transform=\"scale(1 1) rotate(0) translate(4 124)\">\n",
       "<title>%3</title>\n",
       "<polygon fill=\"white\" stroke=\"transparent\" points=\"-4,4 -4,-124 1331,-124 1331,4 -4,4\"/>\n",
       "<!-- 140268880226384 -->\n",
       "<g id=\"node1\" class=\"node\">\n",
       "<title>140268880226384</title>\n",
       "<polygon fill=\"none\" stroke=\"black\" points=\"1090,-27.5 1090,-63.5 1327,-63.5 1327,-27.5 1090,-27.5\"/>\n",
       "<text text-anchor=\"middle\" x=\"1103\" y=\"-41.8\" font-family=\"Times,serif\" font-size=\"14.00\">L</text>\n",
       "<polyline fill=\"none\" stroke=\"black\" points=\"1116,-27.5 1116,-63.5 \"/>\n",
       "<text text-anchor=\"middle\" x=\"1169.5\" y=\"-41.8\" font-family=\"Times,serif\" font-size=\"14.00\">data &#45;8.0000</text>\n",
       "<polyline fill=\"none\" stroke=\"black\" points=\"1223,-27.5 1223,-63.5 \"/>\n",
       "<text text-anchor=\"middle\" x=\"1275\" y=\"-41.8\" font-family=\"Times,serif\" font-size=\"14.00\">grad 1.0000</text>\n",
       "</g>\n",
       "<!-- 140268880226384* -->\n",
       "<g id=\"node2\" class=\"node\">\n",
       "<title>140268880226384*</title>\n",
       "<ellipse fill=\"none\" stroke=\"black\" cx=\"1027\" cy=\"-45.5\" rx=\"27\" ry=\"18\"/>\n",
       "<text text-anchor=\"middle\" x=\"1027\" y=\"-41.8\" font-family=\"Times,serif\" font-size=\"14.00\">*</text>\n",
       "</g>\n",
       "<!-- 140268880226384*&#45;&gt;140268880226384 -->\n",
       "<g id=\"edge1\" class=\"edge\">\n",
       "<title>140268880226384*&#45;&gt;140268880226384</title>\n",
       "<path fill=\"none\" stroke=\"black\" d=\"M1054.1,-45.5C1061.61,-45.5 1070.33,-45.5 1079.75,-45.5\"/>\n",
       "<polygon fill=\"black\" stroke=\"black\" points=\"1079.78,-49 1089.78,-45.5 1079.78,-42 1079.78,-49\"/>\n",
       "</g>\n",
       "<!-- 140268880225568 -->\n",
       "<g id=\"node3\" class=\"node\">\n",
       "<title>140268880225568</title>\n",
       "<polygon fill=\"none\" stroke=\"black\" points=\"363,-83.5 363,-119.5 602,-119.5 602,-83.5 363,-83.5\"/>\n",
       "<text text-anchor=\"middle\" x=\"375\" y=\"-97.8\" font-family=\"Times,serif\" font-size=\"14.00\">c</text>\n",
       "<polyline fill=\"none\" stroke=\"black\" points=\"387,-83.5 387,-119.5 \"/>\n",
       "<text text-anchor=\"middle\" x=\"442.5\" y=\"-97.8\" font-family=\"Times,serif\" font-size=\"14.00\">data 10.0000</text>\n",
       "<polyline fill=\"none\" stroke=\"black\" points=\"498,-83.5 498,-119.5 \"/>\n",
       "<text text-anchor=\"middle\" x=\"550\" y=\"-97.8\" font-family=\"Times,serif\" font-size=\"14.00\">grad 0.0000</text>\n",
       "</g>\n",
       "<!-- 140268880227680+ -->\n",
       "<g id=\"node7\" class=\"node\">\n",
       "<title>140268880227680+</title>\n",
       "<ellipse fill=\"none\" stroke=\"black\" cx=\"665\" cy=\"-73.5\" rx=\"27\" ry=\"18\"/>\n",
       "<text text-anchor=\"middle\" x=\"665\" y=\"-69.8\" font-family=\"Times,serif\" font-size=\"14.00\">+</text>\n",
       "</g>\n",
       "<!-- 140268880225568&#45;&gt;140268880227680+ -->\n",
       "<g id=\"edge4\" class=\"edge\">\n",
       "<title>140268880225568&#45;&gt;140268880227680+</title>\n",
       "<path fill=\"none\" stroke=\"black\" d=\"M599.6,-83.49C609.91,-81.89 619.74,-80.37 628.46,-79.01\"/>\n",
       "<polygon fill=\"black\" stroke=\"black\" points=\"629.18,-82.44 638.52,-77.45 628.1,-75.53 629.18,-82.44\"/>\n",
       "</g>\n",
       "<!-- 140268880226624 -->\n",
       "<g id=\"node4\" class=\"node\">\n",
       "<title>140268880226624</title>\n",
       "<polygon fill=\"none\" stroke=\"black\" points=\"3,-56.5 3,-92.5 234,-92.5 234,-56.5 3,-56.5\"/>\n",
       "<text text-anchor=\"middle\" x=\"15.5\" y=\"-70.8\" font-family=\"Times,serif\" font-size=\"14.00\">a</text>\n",
       "<polyline fill=\"none\" stroke=\"black\" points=\"28,-56.5 28,-92.5 \"/>\n",
       "<text text-anchor=\"middle\" x=\"79\" y=\"-70.8\" font-family=\"Times,serif\" font-size=\"14.00\">data 2.0000</text>\n",
       "<polyline fill=\"none\" stroke=\"black\" points=\"130,-56.5 130,-92.5 \"/>\n",
       "<text text-anchor=\"middle\" x=\"182\" y=\"-70.8\" font-family=\"Times,serif\" font-size=\"14.00\">grad 0.0000</text>\n",
       "</g>\n",
       "<!-- 140268880226288* -->\n",
       "<g id=\"node10\" class=\"node\">\n",
       "<title>140268880226288*</title>\n",
       "<ellipse fill=\"none\" stroke=\"black\" cx=\"300\" cy=\"-46.5\" rx=\"27\" ry=\"18\"/>\n",
       "<text text-anchor=\"middle\" x=\"300\" y=\"-42.8\" font-family=\"Times,serif\" font-size=\"14.00\">*</text>\n",
       "</g>\n",
       "<!-- 140268880226624&#45;&gt;140268880226288* -->\n",
       "<g id=\"edge6\" class=\"edge\">\n",
       "<title>140268880226624&#45;&gt;140268880226288*</title>\n",
       "<path fill=\"none\" stroke=\"black\" d=\"M234.2,-56.61C244.76,-54.96 254.83,-53.39 263.74,-52\"/>\n",
       "<polygon fill=\"black\" stroke=\"black\" points=\"264.3,-55.46 273.64,-50.46 263.22,-48.54 264.3,-55.46\"/>\n",
       "</g>\n",
       "<!-- 140268880225088 -->\n",
       "<g id=\"node5\" class=\"node\">\n",
       "<title>140268880225088</title>\n",
       "<polygon fill=\"none\" stroke=\"black\" points=\"0,-1.5 0,-37.5 237,-37.5 237,-1.5 0,-1.5\"/>\n",
       "<text text-anchor=\"middle\" x=\"13\" y=\"-15.8\" font-family=\"Times,serif\" font-size=\"14.00\">b</text>\n",
       "<polyline fill=\"none\" stroke=\"black\" points=\"26,-1.5 26,-37.5 \"/>\n",
       "<text text-anchor=\"middle\" x=\"79.5\" y=\"-15.8\" font-family=\"Times,serif\" font-size=\"14.00\">data &#45;3.0000</text>\n",
       "<polyline fill=\"none\" stroke=\"black\" points=\"133,-1.5 133,-37.5 \"/>\n",
       "<text text-anchor=\"middle\" x=\"185\" y=\"-15.8\" font-family=\"Times,serif\" font-size=\"14.00\">grad 0.0000</text>\n",
       "</g>\n",
       "<!-- 140268880225088&#45;&gt;140268880226288* -->\n",
       "<g id=\"edge8\" class=\"edge\">\n",
       "<title>140268880225088&#45;&gt;140268880226288*</title>\n",
       "<path fill=\"none\" stroke=\"black\" d=\"M237.23,-37.21C246.6,-38.62 255.52,-39.96 263.52,-41.16\"/>\n",
       "<polygon fill=\"black\" stroke=\"black\" points=\"263.06,-44.63 273.47,-42.66 264.1,-37.71 263.06,-44.63\"/>\n",
       "</g>\n",
       "<!-- 140268880227680 -->\n",
       "<g id=\"node6\" class=\"node\">\n",
       "<title>140268880227680</title>\n",
       "<polygon fill=\"none\" stroke=\"black\" points=\"728,-55.5 728,-91.5 964,-91.5 964,-55.5 728,-55.5\"/>\n",
       "<text text-anchor=\"middle\" x=\"741\" y=\"-69.8\" font-family=\"Times,serif\" font-size=\"14.00\">d</text>\n",
       "<polyline fill=\"none\" stroke=\"black\" points=\"754,-55.5 754,-91.5 \"/>\n",
       "<text text-anchor=\"middle\" x=\"805\" y=\"-69.8\" font-family=\"Times,serif\" font-size=\"14.00\">data 4.0000</text>\n",
       "<polyline fill=\"none\" stroke=\"black\" points=\"856,-55.5 856,-91.5 \"/>\n",
       "<text text-anchor=\"middle\" x=\"910\" y=\"-69.8\" font-family=\"Times,serif\" font-size=\"14.00\">grad &#45;2.0000</text>\n",
       "</g>\n",
       "<!-- 140268880227680&#45;&gt;140268880226384* -->\n",
       "<g id=\"edge7\" class=\"edge\">\n",
       "<title>140268880227680&#45;&gt;140268880226384*</title>\n",
       "<path fill=\"none\" stroke=\"black\" d=\"M962.13,-55.49C972.27,-53.91 981.92,-52.4 990.51,-51.05\"/>\n",
       "<polygon fill=\"black\" stroke=\"black\" points=\"991.09,-54.5 1000.43,-49.5 990.01,-47.59 991.09,-54.5\"/>\n",
       "</g>\n",
       "<!-- 140268880227680+&#45;&gt;140268880227680 -->\n",
       "<g id=\"edge2\" class=\"edge\">\n",
       "<title>140268880227680+&#45;&gt;140268880227680</title>\n",
       "<path fill=\"none\" stroke=\"black\" d=\"M692.03,-73.5C699.58,-73.5 708.38,-73.5 717.87,-73.5\"/>\n",
       "<polygon fill=\"black\" stroke=\"black\" points=\"717.99,-77 727.99,-73.5 717.99,-70 717.99,-77\"/>\n",
       "</g>\n",
       "<!-- 140268880224656 -->\n",
       "<g id=\"node8\" class=\"node\">\n",
       "<title>140268880224656</title>\n",
       "<polygon fill=\"none\" stroke=\"black\" points=\"729.5,-0.5 729.5,-36.5 962.5,-36.5 962.5,-0.5 729.5,-0.5\"/>\n",
       "<text text-anchor=\"middle\" x=\"740.5\" y=\"-14.8\" font-family=\"Times,serif\" font-size=\"14.00\">f</text>\n",
       "<polyline fill=\"none\" stroke=\"black\" points=\"751.5,-0.5 751.5,-36.5 \"/>\n",
       "<text text-anchor=\"middle\" x=\"805\" y=\"-14.8\" font-family=\"Times,serif\" font-size=\"14.00\">data &#45;2.0000</text>\n",
       "<polyline fill=\"none\" stroke=\"black\" points=\"858.5,-0.5 858.5,-36.5 \"/>\n",
       "<text text-anchor=\"middle\" x=\"910.5\" y=\"-14.8\" font-family=\"Times,serif\" font-size=\"14.00\">grad 4.0000</text>\n",
       "</g>\n",
       "<!-- 140268880224656&#45;&gt;140268880226384* -->\n",
       "<g id=\"edge9\" class=\"edge\">\n",
       "<title>140268880224656&#45;&gt;140268880226384*</title>\n",
       "<path fill=\"none\" stroke=\"black\" d=\"M962.64,-35.94C972.5,-37.43 981.9,-38.85 990.29,-40.11\"/>\n",
       "<polygon fill=\"black\" stroke=\"black\" points=\"989.94,-43.6 1000.35,-41.63 990.98,-36.68 989.94,-43.6\"/>\n",
       "</g>\n",
       "<!-- 140268880226288 -->\n",
       "<g id=\"node9\" class=\"node\">\n",
       "<title>140268880226288</title>\n",
       "<polygon fill=\"none\" stroke=\"black\" points=\"364.5,-28.5 364.5,-64.5 600.5,-64.5 600.5,-28.5 364.5,-28.5\"/>\n",
       "<text text-anchor=\"middle\" x=\"377\" y=\"-42.8\" font-family=\"Times,serif\" font-size=\"14.00\">e</text>\n",
       "<polyline fill=\"none\" stroke=\"black\" points=\"389.5,-28.5 389.5,-64.5 \"/>\n",
       "<text text-anchor=\"middle\" x=\"443\" y=\"-42.8\" font-family=\"Times,serif\" font-size=\"14.00\">data &#45;6.0000</text>\n",
       "<polyline fill=\"none\" stroke=\"black\" points=\"496.5,-28.5 496.5,-64.5 \"/>\n",
       "<text text-anchor=\"middle\" x=\"548.5\" y=\"-42.8\" font-family=\"Times,serif\" font-size=\"14.00\">grad 0.0000</text>\n",
       "</g>\n",
       "<!-- 140268880226288&#45;&gt;140268880227680+ -->\n",
       "<g id=\"edge5\" class=\"edge\">\n",
       "<title>140268880226288&#45;&gt;140268880227680+</title>\n",
       "<path fill=\"none\" stroke=\"black\" d=\"M600.62,-64.02C610.5,-65.5 619.9,-66.9 628.3,-68.16\"/>\n",
       "<polygon fill=\"black\" stroke=\"black\" points=\"627.95,-71.65 638.36,-69.66 628.99,-64.72 627.95,-71.65\"/>\n",
       "</g>\n",
       "<!-- 140268880226288*&#45;&gt;140268880226288 -->\n",
       "<g id=\"edge3\" class=\"edge\">\n",
       "<title>140268880226288*&#45;&gt;140268880226288</title>\n",
       "<path fill=\"none\" stroke=\"black\" d=\"M327.25,-46.5C335.09,-46.5 344.27,-46.5 354.17,-46.5\"/>\n",
       "<polygon fill=\"black\" stroke=\"black\" points=\"354.28,-50 364.28,-46.5 354.28,-43 354.28,-50\"/>\n",
       "</g>\n",
       "</g>\n",
       "</svg>\n"
      ],
      "text/plain": [
       "<graphviz.graphs.Digraph at 0x7f92c77e37f0>"
      ]
     },
     "execution_count": 144,
     "metadata": {},
     "output_type": "execute_result"
    }
   ],
   "source": [
    "L.grad = 1.0\n",
    "f.grad = 4.0\n",
    "d.grad = -2.0\n",
    "draw_dot(L)"
   ]
  },
  {
   "cell_type": "code",
   "execution_count": null,
   "id": "f55bf947",
   "metadata": {},
   "outputs": [],
   "source": [
    "# dd / dc = 1.0\n",
    "# dd / de = 1.0\n",
    "# d = c + e\n",
    "\n",
    "# WANT\n",
    "# dl / dc\n",
    "\n",
    "#KNOW:\n",
    "# dl / dd\n",
    "# dd / dc \n",
    "\n",
    "# dl / dc = (dl / dd) *（dd / dc）"
   ]
  },
  {
   "cell_type": "code",
   "execution_count": 145,
   "id": "fd17c11f",
   "metadata": {},
   "outputs": [
    {
     "data": {
      "image/svg+xml": [
       "<?xml version=\"1.0\" encoding=\"UTF-8\" standalone=\"no\"?>\n",
       "<!DOCTYPE svg PUBLIC \"-//W3C//DTD SVG 1.1//EN\"\n",
       " \"http://www.w3.org/Graphics/SVG/1.1/DTD/svg11.dtd\">\n",
       "<!-- Generated by graphviz version 2.43.0 (0)\n",
       " -->\n",
       "<!-- Title: %3 Pages: 1 -->\n",
       "<svg width=\"1339pt\" height=\"128pt\"\n",
       " viewBox=\"0.00 0.00 1339.00 128.00\" xmlns=\"http://www.w3.org/2000/svg\" xmlns:xlink=\"http://www.w3.org/1999/xlink\">\n",
       "<g id=\"graph0\" class=\"graph\" transform=\"scale(1 1) rotate(0) translate(4 124)\">\n",
       "<title>%3</title>\n",
       "<polygon fill=\"white\" stroke=\"transparent\" points=\"-4,4 -4,-124 1335,-124 1335,4 -4,4\"/>\n",
       "<!-- 140268880226384 -->\n",
       "<g id=\"node1\" class=\"node\">\n",
       "<title>140268880226384</title>\n",
       "<polygon fill=\"none\" stroke=\"black\" points=\"1094,-27.5 1094,-63.5 1331,-63.5 1331,-27.5 1094,-27.5\"/>\n",
       "<text text-anchor=\"middle\" x=\"1107\" y=\"-41.8\" font-family=\"Times,serif\" font-size=\"14.00\">L</text>\n",
       "<polyline fill=\"none\" stroke=\"black\" points=\"1120,-27.5 1120,-63.5 \"/>\n",
       "<text text-anchor=\"middle\" x=\"1173.5\" y=\"-41.8\" font-family=\"Times,serif\" font-size=\"14.00\">data &#45;8.0000</text>\n",
       "<polyline fill=\"none\" stroke=\"black\" points=\"1227,-27.5 1227,-63.5 \"/>\n",
       "<text text-anchor=\"middle\" x=\"1279\" y=\"-41.8\" font-family=\"Times,serif\" font-size=\"14.00\">grad 1.0000</text>\n",
       "</g>\n",
       "<!-- 140268880226384* -->\n",
       "<g id=\"node2\" class=\"node\">\n",
       "<title>140268880226384*</title>\n",
       "<ellipse fill=\"none\" stroke=\"black\" cx=\"1031\" cy=\"-45.5\" rx=\"27\" ry=\"18\"/>\n",
       "<text text-anchor=\"middle\" x=\"1031\" y=\"-41.8\" font-family=\"Times,serif\" font-size=\"14.00\">*</text>\n",
       "</g>\n",
       "<!-- 140268880226384*&#45;&gt;140268880226384 -->\n",
       "<g id=\"edge1\" class=\"edge\">\n",
       "<title>140268880226384*&#45;&gt;140268880226384</title>\n",
       "<path fill=\"none\" stroke=\"black\" d=\"M1058.1,-45.5C1065.61,-45.5 1074.33,-45.5 1083.75,-45.5\"/>\n",
       "<polygon fill=\"black\" stroke=\"black\" points=\"1083.78,-49 1093.78,-45.5 1083.78,-42 1083.78,-49\"/>\n",
       "</g>\n",
       "<!-- 140268880225568 -->\n",
       "<g id=\"node3\" class=\"node\">\n",
       "<title>140268880225568</title>\n",
       "<polygon fill=\"none\" stroke=\"black\" points=\"363,-83.5 363,-119.5 606,-119.5 606,-83.5 363,-83.5\"/>\n",
       "<text text-anchor=\"middle\" x=\"375\" y=\"-97.8\" font-family=\"Times,serif\" font-size=\"14.00\">c</text>\n",
       "<polyline fill=\"none\" stroke=\"black\" points=\"387,-83.5 387,-119.5 \"/>\n",
       "<text text-anchor=\"middle\" x=\"442.5\" y=\"-97.8\" font-family=\"Times,serif\" font-size=\"14.00\">data 10.0000</text>\n",
       "<polyline fill=\"none\" stroke=\"black\" points=\"498,-83.5 498,-119.5 \"/>\n",
       "<text text-anchor=\"middle\" x=\"552\" y=\"-97.8\" font-family=\"Times,serif\" font-size=\"14.00\">grad &#45;2.0000</text>\n",
       "</g>\n",
       "<!-- 140268880227680+ -->\n",
       "<g id=\"node7\" class=\"node\">\n",
       "<title>140268880227680+</title>\n",
       "<ellipse fill=\"none\" stroke=\"black\" cx=\"669\" cy=\"-73.5\" rx=\"27\" ry=\"18\"/>\n",
       "<text text-anchor=\"middle\" x=\"669\" y=\"-69.8\" font-family=\"Times,serif\" font-size=\"14.00\">+</text>\n",
       "</g>\n",
       "<!-- 140268880225568&#45;&gt;140268880227680+ -->\n",
       "<g id=\"edge4\" class=\"edge\">\n",
       "<title>140268880225568&#45;&gt;140268880227680+</title>\n",
       "<path fill=\"none\" stroke=\"black\" d=\"M602.89,-83.49C613.53,-81.86 623.65,-80.3 632.61,-78.93\"/>\n",
       "<polygon fill=\"black\" stroke=\"black\" points=\"633.2,-82.38 642.55,-77.4 632.14,-75.46 633.2,-82.38\"/>\n",
       "</g>\n",
       "<!-- 140268880226624 -->\n",
       "<g id=\"node4\" class=\"node\">\n",
       "<title>140268880226624</title>\n",
       "<polygon fill=\"none\" stroke=\"black\" points=\"3,-56.5 3,-92.5 234,-92.5 234,-56.5 3,-56.5\"/>\n",
       "<text text-anchor=\"middle\" x=\"15.5\" y=\"-70.8\" font-family=\"Times,serif\" font-size=\"14.00\">a</text>\n",
       "<polyline fill=\"none\" stroke=\"black\" points=\"28,-56.5 28,-92.5 \"/>\n",
       "<text text-anchor=\"middle\" x=\"79\" y=\"-70.8\" font-family=\"Times,serif\" font-size=\"14.00\">data 2.0000</text>\n",
       "<polyline fill=\"none\" stroke=\"black\" points=\"130,-56.5 130,-92.5 \"/>\n",
       "<text text-anchor=\"middle\" x=\"182\" y=\"-70.8\" font-family=\"Times,serif\" font-size=\"14.00\">grad 0.0000</text>\n",
       "</g>\n",
       "<!-- 140268880226288* -->\n",
       "<g id=\"node10\" class=\"node\">\n",
       "<title>140268880226288*</title>\n",
       "<ellipse fill=\"none\" stroke=\"black\" cx=\"300\" cy=\"-46.5\" rx=\"27\" ry=\"18\"/>\n",
       "<text text-anchor=\"middle\" x=\"300\" y=\"-42.8\" font-family=\"Times,serif\" font-size=\"14.00\">*</text>\n",
       "</g>\n",
       "<!-- 140268880226624&#45;&gt;140268880226288* -->\n",
       "<g id=\"edge6\" class=\"edge\">\n",
       "<title>140268880226624&#45;&gt;140268880226288*</title>\n",
       "<path fill=\"none\" stroke=\"black\" d=\"M234.2,-56.61C244.76,-54.96 254.83,-53.39 263.74,-52\"/>\n",
       "<polygon fill=\"black\" stroke=\"black\" points=\"264.3,-55.46 273.64,-50.46 263.22,-48.54 264.3,-55.46\"/>\n",
       "</g>\n",
       "<!-- 140268880225088 -->\n",
       "<g id=\"node5\" class=\"node\">\n",
       "<title>140268880225088</title>\n",
       "<polygon fill=\"none\" stroke=\"black\" points=\"0,-1.5 0,-37.5 237,-37.5 237,-1.5 0,-1.5\"/>\n",
       "<text text-anchor=\"middle\" x=\"13\" y=\"-15.8\" font-family=\"Times,serif\" font-size=\"14.00\">b</text>\n",
       "<polyline fill=\"none\" stroke=\"black\" points=\"26,-1.5 26,-37.5 \"/>\n",
       "<text text-anchor=\"middle\" x=\"79.5\" y=\"-15.8\" font-family=\"Times,serif\" font-size=\"14.00\">data &#45;3.0000</text>\n",
       "<polyline fill=\"none\" stroke=\"black\" points=\"133,-1.5 133,-37.5 \"/>\n",
       "<text text-anchor=\"middle\" x=\"185\" y=\"-15.8\" font-family=\"Times,serif\" font-size=\"14.00\">grad 0.0000</text>\n",
       "</g>\n",
       "<!-- 140268880225088&#45;&gt;140268880226288* -->\n",
       "<g id=\"edge8\" class=\"edge\">\n",
       "<title>140268880225088&#45;&gt;140268880226288*</title>\n",
       "<path fill=\"none\" stroke=\"black\" d=\"M237.23,-37.21C246.6,-38.62 255.52,-39.96 263.52,-41.16\"/>\n",
       "<polygon fill=\"black\" stroke=\"black\" points=\"263.06,-44.63 273.47,-42.66 264.1,-37.71 263.06,-44.63\"/>\n",
       "</g>\n",
       "<!-- 140268880227680 -->\n",
       "<g id=\"node6\" class=\"node\">\n",
       "<title>140268880227680</title>\n",
       "<polygon fill=\"none\" stroke=\"black\" points=\"732,-55.5 732,-91.5 968,-91.5 968,-55.5 732,-55.5\"/>\n",
       "<text text-anchor=\"middle\" x=\"745\" y=\"-69.8\" font-family=\"Times,serif\" font-size=\"14.00\">d</text>\n",
       "<polyline fill=\"none\" stroke=\"black\" points=\"758,-55.5 758,-91.5 \"/>\n",
       "<text text-anchor=\"middle\" x=\"809\" y=\"-69.8\" font-family=\"Times,serif\" font-size=\"14.00\">data 4.0000</text>\n",
       "<polyline fill=\"none\" stroke=\"black\" points=\"860,-55.5 860,-91.5 \"/>\n",
       "<text text-anchor=\"middle\" x=\"914\" y=\"-69.8\" font-family=\"Times,serif\" font-size=\"14.00\">grad &#45;2.0000</text>\n",
       "</g>\n",
       "<!-- 140268880227680&#45;&gt;140268880226384* -->\n",
       "<g id=\"edge7\" class=\"edge\">\n",
       "<title>140268880227680&#45;&gt;140268880226384*</title>\n",
       "<path fill=\"none\" stroke=\"black\" d=\"M966.13,-55.49C976.27,-53.91 985.92,-52.4 994.51,-51.05\"/>\n",
       "<polygon fill=\"black\" stroke=\"black\" points=\"995.09,-54.5 1004.43,-49.5 994.01,-47.59 995.09,-54.5\"/>\n",
       "</g>\n",
       "<!-- 140268880227680+&#45;&gt;140268880227680 -->\n",
       "<g id=\"edge2\" class=\"edge\">\n",
       "<title>140268880227680+&#45;&gt;140268880227680</title>\n",
       "<path fill=\"none\" stroke=\"black\" d=\"M696.03,-73.5C703.58,-73.5 712.38,-73.5 721.87,-73.5\"/>\n",
       "<polygon fill=\"black\" stroke=\"black\" points=\"721.99,-77 731.99,-73.5 721.99,-70 721.99,-77\"/>\n",
       "</g>\n",
       "<!-- 140268880224656 -->\n",
       "<g id=\"node8\" class=\"node\">\n",
       "<title>140268880224656</title>\n",
       "<polygon fill=\"none\" stroke=\"black\" points=\"733.5,-0.5 733.5,-36.5 966.5,-36.5 966.5,-0.5 733.5,-0.5\"/>\n",
       "<text text-anchor=\"middle\" x=\"744.5\" y=\"-14.8\" font-family=\"Times,serif\" font-size=\"14.00\">f</text>\n",
       "<polyline fill=\"none\" stroke=\"black\" points=\"755.5,-0.5 755.5,-36.5 \"/>\n",
       "<text text-anchor=\"middle\" x=\"809\" y=\"-14.8\" font-family=\"Times,serif\" font-size=\"14.00\">data &#45;2.0000</text>\n",
       "<polyline fill=\"none\" stroke=\"black\" points=\"862.5,-0.5 862.5,-36.5 \"/>\n",
       "<text text-anchor=\"middle\" x=\"914.5\" y=\"-14.8\" font-family=\"Times,serif\" font-size=\"14.00\">grad 4.0000</text>\n",
       "</g>\n",
       "<!-- 140268880224656&#45;&gt;140268880226384* -->\n",
       "<g id=\"edge9\" class=\"edge\">\n",
       "<title>140268880224656&#45;&gt;140268880226384*</title>\n",
       "<path fill=\"none\" stroke=\"black\" d=\"M966.64,-35.94C976.5,-37.43 985.9,-38.85 994.29,-40.11\"/>\n",
       "<polygon fill=\"black\" stroke=\"black\" points=\"993.94,-43.6 1004.35,-41.63 994.98,-36.68 993.94,-43.6\"/>\n",
       "</g>\n",
       "<!-- 140268880226288 -->\n",
       "<g id=\"node9\" class=\"node\">\n",
       "<title>140268880226288</title>\n",
       "<polygon fill=\"none\" stroke=\"black\" points=\"364.5,-28.5 364.5,-64.5 604.5,-64.5 604.5,-28.5 364.5,-28.5\"/>\n",
       "<text text-anchor=\"middle\" x=\"377\" y=\"-42.8\" font-family=\"Times,serif\" font-size=\"14.00\">e</text>\n",
       "<polyline fill=\"none\" stroke=\"black\" points=\"389.5,-28.5 389.5,-64.5 \"/>\n",
       "<text text-anchor=\"middle\" x=\"443\" y=\"-42.8\" font-family=\"Times,serif\" font-size=\"14.00\">data &#45;6.0000</text>\n",
       "<polyline fill=\"none\" stroke=\"black\" points=\"496.5,-28.5 496.5,-64.5 \"/>\n",
       "<text text-anchor=\"middle\" x=\"550.5\" y=\"-42.8\" font-family=\"Times,serif\" font-size=\"14.00\">grad &#45;2.0000</text>\n",
       "</g>\n",
       "<!-- 140268880226288&#45;&gt;140268880227680+ -->\n",
       "<g id=\"edge5\" class=\"edge\">\n",
       "<title>140268880226288&#45;&gt;140268880227680+</title>\n",
       "<path fill=\"none\" stroke=\"black\" d=\"M604.68,-64.13C614.57,-65.6 623.98,-66.99 632.37,-68.23\"/>\n",
       "<polygon fill=\"black\" stroke=\"black\" points=\"632.02,-71.71 642.42,-69.72 633.04,-64.79 632.02,-71.71\"/>\n",
       "</g>\n",
       "<!-- 140268880226288*&#45;&gt;140268880226288 -->\n",
       "<g id=\"edge3\" class=\"edge\">\n",
       "<title>140268880226288*&#45;&gt;140268880226288</title>\n",
       "<path fill=\"none\" stroke=\"black\" d=\"M327.15,-46.5C334.98,-46.5 344.16,-46.5 354.06,-46.5\"/>\n",
       "<polygon fill=\"black\" stroke=\"black\" points=\"354.19,-50 364.19,-46.5 354.19,-43 354.19,-50\"/>\n",
       "</g>\n",
       "</g>\n",
       "</svg>\n"
      ],
      "text/plain": [
       "<graphviz.graphs.Digraph at 0x7f92c77e32b0>"
      ]
     },
     "execution_count": 145,
     "metadata": {},
     "output_type": "execute_result"
    }
   ],
   "source": [
    "L.grad = 1.0\n",
    "f.grad = 4.0\n",
    "d.grad = -2.0\n",
    "c.grad = -2.0\n",
    "e.grad = -2.0\n",
    "draw_dot(L)"
   ]
  },
  {
   "cell_type": "code",
   "execution_count": 151,
   "id": "bb783a95",
   "metadata": {},
   "outputs": [
    {
     "name": "stdout",
     "output_type": "stream",
     "text": [
      "-2.000000000000668\n"
     ]
    }
   ],
   "source": [
    "def lol():\n",
    "    h = 0.001\n",
    "    a = Value(2.0, label='a')\n",
    "    b = Value(-3.0, label='b')\n",
    "    c = Value(10.0, label='c')\n",
    "    e = a*b; e.label = 'e'\n",
    "    d = e + c; d.label = 'd'\n",
    "    f = Value(-2.0, label='f')\n",
    "    L = d * f; L.label = 'L'\n",
    "    L1 = L.data\n",
    "    \n",
    "    a = Value(2.0, label='a')\n",
    "    b = Value(-3.0, label='b')\n",
    "    c = Value(10.0, label='c')\n",
    "    #c.data += h\n",
    "    e = a*b; e.label = 'e'\n",
    "    e.data += h\n",
    "    d = e + c; d.label = 'd'\n",
    "    f = Value(-2.0, label='f')\n",
    "    L = d * f; L.label = 'L'\n",
    "    L2 = L.data\n",
    "    \n",
    "    # 打印L相对于c或者e的导数 验证 c.grad = -2.0 e.grad = -2.0\n",
    "    print((L2-L1)/h)\n",
    "    \n",
    "   \n",
    "lol()"
   ]
  },
  {
   "cell_type": "code",
   "execution_count": null,
   "id": "59534a69",
   "metadata": {},
   "outputs": [],
   "source": [
    "#dL / de = -2.0\n",
    "#a = a * b\n",
    "#de / da = b \n",
    "#de / db = a \n",
    "#dL / da = (dl / de) * (de / da)"
   ]
  },
  {
   "cell_type": "code",
   "execution_count": 153,
   "id": "dcd3447c",
   "metadata": {},
   "outputs": [
    {
     "data": {
      "image/svg+xml": [
       "<?xml version=\"1.0\" encoding=\"UTF-8\" standalone=\"no\"?>\n",
       "<!DOCTYPE svg PUBLIC \"-//W3C//DTD SVG 1.1//EN\"\n",
       " \"http://www.w3.org/Graphics/SVG/1.1/DTD/svg11.dtd\">\n",
       "<!-- Generated by graphviz version 2.43.0 (0)\n",
       " -->\n",
       "<!-- Title: %3 Pages: 1 -->\n",
       "<svg width=\"1343pt\" height=\"128pt\"\n",
       " viewBox=\"0.00 0.00 1343.00 128.00\" xmlns=\"http://www.w3.org/2000/svg\" xmlns:xlink=\"http://www.w3.org/1999/xlink\">\n",
       "<g id=\"graph0\" class=\"graph\" transform=\"scale(1 1) rotate(0) translate(4 124)\">\n",
       "<title>%3</title>\n",
       "<polygon fill=\"white\" stroke=\"transparent\" points=\"-4,4 -4,-124 1339,-124 1339,4 -4,4\"/>\n",
       "<!-- 140268880226384 -->\n",
       "<g id=\"node1\" class=\"node\">\n",
       "<title>140268880226384</title>\n",
       "<polygon fill=\"none\" stroke=\"black\" points=\"1098,-27.5 1098,-63.5 1335,-63.5 1335,-27.5 1098,-27.5\"/>\n",
       "<text text-anchor=\"middle\" x=\"1111\" y=\"-41.8\" font-family=\"Times,serif\" font-size=\"14.00\">L</text>\n",
       "<polyline fill=\"none\" stroke=\"black\" points=\"1124,-27.5 1124,-63.5 \"/>\n",
       "<text text-anchor=\"middle\" x=\"1177.5\" y=\"-41.8\" font-family=\"Times,serif\" font-size=\"14.00\">data &#45;8.0000</text>\n",
       "<polyline fill=\"none\" stroke=\"black\" points=\"1231,-27.5 1231,-63.5 \"/>\n",
       "<text text-anchor=\"middle\" x=\"1283\" y=\"-41.8\" font-family=\"Times,serif\" font-size=\"14.00\">grad 1.0000</text>\n",
       "</g>\n",
       "<!-- 140268880226384* -->\n",
       "<g id=\"node2\" class=\"node\">\n",
       "<title>140268880226384*</title>\n",
       "<ellipse fill=\"none\" stroke=\"black\" cx=\"1035\" cy=\"-45.5\" rx=\"27\" ry=\"18\"/>\n",
       "<text text-anchor=\"middle\" x=\"1035\" y=\"-41.8\" font-family=\"Times,serif\" font-size=\"14.00\">*</text>\n",
       "</g>\n",
       "<!-- 140268880226384*&#45;&gt;140268880226384 -->\n",
       "<g id=\"edge1\" class=\"edge\">\n",
       "<title>140268880226384*&#45;&gt;140268880226384</title>\n",
       "<path fill=\"none\" stroke=\"black\" d=\"M1062.1,-45.5C1069.61,-45.5 1078.33,-45.5 1087.75,-45.5\"/>\n",
       "<polygon fill=\"black\" stroke=\"black\" points=\"1087.78,-49 1097.78,-45.5 1087.78,-42 1087.78,-49\"/>\n",
       "</g>\n",
       "<!-- 140268880225568 -->\n",
       "<g id=\"node3\" class=\"node\">\n",
       "<title>140268880225568</title>\n",
       "<polygon fill=\"none\" stroke=\"black\" points=\"367,-83.5 367,-119.5 610,-119.5 610,-83.5 367,-83.5\"/>\n",
       "<text text-anchor=\"middle\" x=\"379\" y=\"-97.8\" font-family=\"Times,serif\" font-size=\"14.00\">c</text>\n",
       "<polyline fill=\"none\" stroke=\"black\" points=\"391,-83.5 391,-119.5 \"/>\n",
       "<text text-anchor=\"middle\" x=\"446.5\" y=\"-97.8\" font-family=\"Times,serif\" font-size=\"14.00\">data 10.0000</text>\n",
       "<polyline fill=\"none\" stroke=\"black\" points=\"502,-83.5 502,-119.5 \"/>\n",
       "<text text-anchor=\"middle\" x=\"556\" y=\"-97.8\" font-family=\"Times,serif\" font-size=\"14.00\">grad &#45;2.0000</text>\n",
       "</g>\n",
       "<!-- 140268880227680+ -->\n",
       "<g id=\"node7\" class=\"node\">\n",
       "<title>140268880227680+</title>\n",
       "<ellipse fill=\"none\" stroke=\"black\" cx=\"673\" cy=\"-73.5\" rx=\"27\" ry=\"18\"/>\n",
       "<text text-anchor=\"middle\" x=\"673\" y=\"-69.8\" font-family=\"Times,serif\" font-size=\"14.00\">+</text>\n",
       "</g>\n",
       "<!-- 140268880225568&#45;&gt;140268880227680+ -->\n",
       "<g id=\"edge4\" class=\"edge\">\n",
       "<title>140268880225568&#45;&gt;140268880227680+</title>\n",
       "<path fill=\"none\" stroke=\"black\" d=\"M606.89,-83.49C617.53,-81.86 627.65,-80.3 636.61,-78.93\"/>\n",
       "<polygon fill=\"black\" stroke=\"black\" points=\"637.2,-82.38 646.55,-77.4 636.14,-75.46 637.2,-82.38\"/>\n",
       "</g>\n",
       "<!-- 140268880226624 -->\n",
       "<g id=\"node4\" class=\"node\">\n",
       "<title>140268880226624</title>\n",
       "<polygon fill=\"none\" stroke=\"black\" points=\"5,-56.5 5,-92.5 236,-92.5 236,-56.5 5,-56.5\"/>\n",
       "<text text-anchor=\"middle\" x=\"17.5\" y=\"-70.8\" font-family=\"Times,serif\" font-size=\"14.00\">a</text>\n",
       "<polyline fill=\"none\" stroke=\"black\" points=\"30,-56.5 30,-92.5 \"/>\n",
       "<text text-anchor=\"middle\" x=\"81\" y=\"-70.8\" font-family=\"Times,serif\" font-size=\"14.00\">data 2.0000</text>\n",
       "<polyline fill=\"none\" stroke=\"black\" points=\"132,-56.5 132,-92.5 \"/>\n",
       "<text text-anchor=\"middle\" x=\"184\" y=\"-70.8\" font-family=\"Times,serif\" font-size=\"14.00\">grad 6.0000</text>\n",
       "</g>\n",
       "<!-- 140268880226288* -->\n",
       "<g id=\"node10\" class=\"node\">\n",
       "<title>140268880226288*</title>\n",
       "<ellipse fill=\"none\" stroke=\"black\" cx=\"304\" cy=\"-46.5\" rx=\"27\" ry=\"18\"/>\n",
       "<text text-anchor=\"middle\" x=\"304\" y=\"-42.8\" font-family=\"Times,serif\" font-size=\"14.00\">*</text>\n",
       "</g>\n",
       "<!-- 140268880226624&#45;&gt;140268880226288* -->\n",
       "<g id=\"edge6\" class=\"edge\">\n",
       "<title>140268880226624&#45;&gt;140268880226288*</title>\n",
       "<path fill=\"none\" stroke=\"black\" d=\"M236.19,-56.81C247.37,-55.08 258.02,-53.44 267.41,-51.99\"/>\n",
       "<polygon fill=\"black\" stroke=\"black\" points=\"268.08,-55.43 277.43,-50.44 267.01,-48.51 268.08,-55.43\"/>\n",
       "</g>\n",
       "<!-- 140268880225088 -->\n",
       "<g id=\"node5\" class=\"node\">\n",
       "<title>140268880225088</title>\n",
       "<polygon fill=\"none\" stroke=\"black\" points=\"0,-1.5 0,-37.5 241,-37.5 241,-1.5 0,-1.5\"/>\n",
       "<text text-anchor=\"middle\" x=\"13\" y=\"-15.8\" font-family=\"Times,serif\" font-size=\"14.00\">b</text>\n",
       "<polyline fill=\"none\" stroke=\"black\" points=\"26,-1.5 26,-37.5 \"/>\n",
       "<text text-anchor=\"middle\" x=\"79.5\" y=\"-15.8\" font-family=\"Times,serif\" font-size=\"14.00\">data &#45;3.0000</text>\n",
       "<polyline fill=\"none\" stroke=\"black\" points=\"133,-1.5 133,-37.5 \"/>\n",
       "<text text-anchor=\"middle\" x=\"187\" y=\"-15.8\" font-family=\"Times,serif\" font-size=\"14.00\">grad &#45;4.0000</text>\n",
       "</g>\n",
       "<!-- 140268880225088&#45;&gt;140268880226288* -->\n",
       "<g id=\"edge8\" class=\"edge\">\n",
       "<title>140268880225088&#45;&gt;140268880226288*</title>\n",
       "<path fill=\"none\" stroke=\"black\" d=\"M241.05,-37.28C250.46,-38.68 259.41,-40.02 267.44,-41.21\"/>\n",
       "<polygon fill=\"black\" stroke=\"black\" points=\"267.01,-44.68 277.41,-42.69 268.04,-37.76 267.01,-44.68\"/>\n",
       "</g>\n",
       "<!-- 140268880227680 -->\n",
       "<g id=\"node6\" class=\"node\">\n",
       "<title>140268880227680</title>\n",
       "<polygon fill=\"none\" stroke=\"black\" points=\"736,-55.5 736,-91.5 972,-91.5 972,-55.5 736,-55.5\"/>\n",
       "<text text-anchor=\"middle\" x=\"749\" y=\"-69.8\" font-family=\"Times,serif\" font-size=\"14.00\">d</text>\n",
       "<polyline fill=\"none\" stroke=\"black\" points=\"762,-55.5 762,-91.5 \"/>\n",
       "<text text-anchor=\"middle\" x=\"813\" y=\"-69.8\" font-family=\"Times,serif\" font-size=\"14.00\">data 4.0000</text>\n",
       "<polyline fill=\"none\" stroke=\"black\" points=\"864,-55.5 864,-91.5 \"/>\n",
       "<text text-anchor=\"middle\" x=\"918\" y=\"-69.8\" font-family=\"Times,serif\" font-size=\"14.00\">grad &#45;2.0000</text>\n",
       "</g>\n",
       "<!-- 140268880227680&#45;&gt;140268880226384* -->\n",
       "<g id=\"edge7\" class=\"edge\">\n",
       "<title>140268880227680&#45;&gt;140268880226384*</title>\n",
       "<path fill=\"none\" stroke=\"black\" d=\"M970.13,-55.49C980.27,-53.91 989.92,-52.4 998.51,-51.05\"/>\n",
       "<polygon fill=\"black\" stroke=\"black\" points=\"999.09,-54.5 1008.43,-49.5 998.01,-47.59 999.09,-54.5\"/>\n",
       "</g>\n",
       "<!-- 140268880227680+&#45;&gt;140268880227680 -->\n",
       "<g id=\"edge2\" class=\"edge\">\n",
       "<title>140268880227680+&#45;&gt;140268880227680</title>\n",
       "<path fill=\"none\" stroke=\"black\" d=\"M700.03,-73.5C707.58,-73.5 716.38,-73.5 725.87,-73.5\"/>\n",
       "<polygon fill=\"black\" stroke=\"black\" points=\"725.99,-77 735.99,-73.5 725.99,-70 725.99,-77\"/>\n",
       "</g>\n",
       "<!-- 140268880224656 -->\n",
       "<g id=\"node8\" class=\"node\">\n",
       "<title>140268880224656</title>\n",
       "<polygon fill=\"none\" stroke=\"black\" points=\"737.5,-0.5 737.5,-36.5 970.5,-36.5 970.5,-0.5 737.5,-0.5\"/>\n",
       "<text text-anchor=\"middle\" x=\"748.5\" y=\"-14.8\" font-family=\"Times,serif\" font-size=\"14.00\">f</text>\n",
       "<polyline fill=\"none\" stroke=\"black\" points=\"759.5,-0.5 759.5,-36.5 \"/>\n",
       "<text text-anchor=\"middle\" x=\"813\" y=\"-14.8\" font-family=\"Times,serif\" font-size=\"14.00\">data &#45;2.0000</text>\n",
       "<polyline fill=\"none\" stroke=\"black\" points=\"866.5,-0.5 866.5,-36.5 \"/>\n",
       "<text text-anchor=\"middle\" x=\"918.5\" y=\"-14.8\" font-family=\"Times,serif\" font-size=\"14.00\">grad 4.0000</text>\n",
       "</g>\n",
       "<!-- 140268880224656&#45;&gt;140268880226384* -->\n",
       "<g id=\"edge9\" class=\"edge\">\n",
       "<title>140268880224656&#45;&gt;140268880226384*</title>\n",
       "<path fill=\"none\" stroke=\"black\" d=\"M970.64,-35.94C980.5,-37.43 989.9,-38.85 998.29,-40.11\"/>\n",
       "<polygon fill=\"black\" stroke=\"black\" points=\"997.94,-43.6 1008.35,-41.63 998.98,-36.68 997.94,-43.6\"/>\n",
       "</g>\n",
       "<!-- 140268880226288 -->\n",
       "<g id=\"node9\" class=\"node\">\n",
       "<title>140268880226288</title>\n",
       "<polygon fill=\"none\" stroke=\"black\" points=\"368.5,-28.5 368.5,-64.5 608.5,-64.5 608.5,-28.5 368.5,-28.5\"/>\n",
       "<text text-anchor=\"middle\" x=\"381\" y=\"-42.8\" font-family=\"Times,serif\" font-size=\"14.00\">e</text>\n",
       "<polyline fill=\"none\" stroke=\"black\" points=\"393.5,-28.5 393.5,-64.5 \"/>\n",
       "<text text-anchor=\"middle\" x=\"447\" y=\"-42.8\" font-family=\"Times,serif\" font-size=\"14.00\">data &#45;6.0000</text>\n",
       "<polyline fill=\"none\" stroke=\"black\" points=\"500.5,-28.5 500.5,-64.5 \"/>\n",
       "<text text-anchor=\"middle\" x=\"554.5\" y=\"-42.8\" font-family=\"Times,serif\" font-size=\"14.00\">grad &#45;2.0000</text>\n",
       "</g>\n",
       "<!-- 140268880226288&#45;&gt;140268880227680+ -->\n",
       "<g id=\"edge5\" class=\"edge\">\n",
       "<title>140268880226288&#45;&gt;140268880227680+</title>\n",
       "<path fill=\"none\" stroke=\"black\" d=\"M608.68,-64.13C618.57,-65.6 627.98,-66.99 636.37,-68.23\"/>\n",
       "<polygon fill=\"black\" stroke=\"black\" points=\"636.02,-71.71 646.42,-69.72 637.04,-64.79 636.02,-71.71\"/>\n",
       "</g>\n",
       "<!-- 140268880226288*&#45;&gt;140268880226288 -->\n",
       "<g id=\"edge3\" class=\"edge\">\n",
       "<title>140268880226288*&#45;&gt;140268880226288</title>\n",
       "<path fill=\"none\" stroke=\"black\" d=\"M331.15,-46.5C338.98,-46.5 348.16,-46.5 358.06,-46.5\"/>\n",
       "<polygon fill=\"black\" stroke=\"black\" points=\"358.19,-50 368.19,-46.5 358.19,-43 358.19,-50\"/>\n",
       "</g>\n",
       "</g>\n",
       "</svg>\n"
      ],
      "text/plain": [
       "<graphviz.graphs.Digraph at 0x7f92c79512b0>"
      ]
     },
     "execution_count": 153,
     "metadata": {},
     "output_type": "execute_result"
    }
   ],
   "source": [
    "L.grad = 1.0\n",
    "f.grad = 4.0\n",
    "d.grad = -2.0\n",
    "c.grad = -2.0\n",
    "e.grad = -2.0\n",
    "a.grad = -2.0 * -3.0\n",
    "b.grad = -2.0 * 2.0\n",
    "draw_dot(L)"
   ]
  },
  {
   "cell_type": "code",
   "execution_count": 155,
   "id": "c5759c29",
   "metadata": {},
   "outputs": [
    {
     "name": "stdout",
     "output_type": "stream",
     "text": [
      "-3.9999999999995595\n"
     ]
    }
   ],
   "source": [
    "def lol():\n",
    "    h = 0.001\n",
    "    a = Value(2.0, label='a')\n",
    "    b = Value(-3.0, label='b')\n",
    "    c = Value(10.0, label='c')\n",
    "    e = a*b; e.label = 'e'\n",
    "    d = e + c; d.label = 'd'\n",
    "    f = Value(-2.0, label='f')\n",
    "    L = d * f; L.label = 'L'\n",
    "    L1 = L.data\n",
    "    \n",
    "    a = Value(2.0, label='a')\n",
    "    #a.data += h\n",
    "    b = Value(-3.0, label='b')\n",
    "    b.data += h\n",
    "    c = Value(10.0, label='c')\n",
    "    e = a*b; e.label = 'e'\n",
    "    d = e + c; d.label = 'd'\n",
    "    f = Value(-2.0, label='f')\n",
    "    L = d * f; L.label = 'L'\n",
    "    L2 = L.data\n",
    "    \n",
    "    # 打印L相对于a或者b的导数 验证 a.grad = 6.0 b.grad = -4.0\n",
    "    print((L2-L1)/h)\n",
    "    \n",
    "   \n",
    "lol()"
   ]
  },
  {
   "cell_type": "code",
   "execution_count": null,
   "id": "b74c6945",
   "metadata": {},
   "outputs": [],
   "source": [
    "# 想要L上升\n",
    "a.data += 0.01 * a.grad\n",
    "b.data += 0.01 * b.grad"
   ]
  }
 ],
 "metadata": {
  "kernelspec": {
   "display_name": "Python 3 (ipykernel)",
   "language": "python",
   "name": "python3"
  },
  "language_info": {
   "codemirror_mode": {
    "name": "ipython",
    "version": 3
   },
   "file_extension": ".py",
   "mimetype": "text/x-python",
   "name": "python",
   "nbconvert_exporter": "python",
   "pygments_lexer": "ipython3",
   "version": "3.8.10"
  }
 },
 "nbformat": 4,
 "nbformat_minor": 5
}
